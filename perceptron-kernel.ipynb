{
 "cells": [
  {
   "cell_type": "code",
   "execution_count": 2,
   "metadata": {},
   "outputs": [],
   "source": [
    "import numpy as np\n",
    "from numpy import linalg\n",
    "import pandas as pd\n",
    "from sklearn.model_selection import train_test_split\n"
   ]
  },
  {
   "cell_type": "code",
   "execution_count": 20,
   "metadata": {},
   "outputs": [],
   "source": [
    "def rbf_kernel(x, y, sigma=5.0):\n",
    "    return np.exp(-linalg.norm(x-y)**2 / (2 * (sigma ** 2)))\n",
    "\n",
    "class KernelPerceptron:\n",
    "    def __init__(self, kernel=rbf_kernel, max_iter=100):\n",
    "        self.kernel = kernel\n",
    "        self.max_iter = max_iter\n",
    "\n",
    "    def fit(self, X, y):\n",
    "        n_samples, n_features = X.shape\n",
    "        self.alpha = np.zeros(n_samples, dtype=np.float64)\n",
    "\n",
    "        Kernels = np.zeros((n_samples, n_samples))\n",
    "        for i in range(n_samples):\n",
    "            for j in range(n_samples):\n",
    "                Kernels[i,j] = self.kernel(X[i], X[j])\n",
    "\n",
    "        for t in range(self.max_iter):\n",
    "            for i in range(n_samples):\n",
    "                if np.sign(np.sum(Kernels[:,i] * self.alpha * y)) != y[i]:\n",
    "                    self.alpha[i] += 1.0\n",
    "\n",
    "        sv = self.alpha > 1e-5\n",
    "        self.alpha = self.alpha[sv]\n",
    "        self.sv = X[sv]\n",
    "        self.sv_y = y[sv]\n",
    "\n",
    "    def project(self, X):\n",
    "        y_predict = np.zeros(len(X))\n",
    "\n",
    "        for i in range(len(X)):\n",
    "            s = 0\n",
    "            for w, sv_y, sv in zip(self.alpha, self.sv_y, self.sv):\n",
    "                s += w * sv_y * self.kernel(X[i], sv)\n",
    "            y_predict[i] = s\n",
    "        \n",
    "        return y_predict\n",
    "\n",
    "    def predict(self, X):\n",
    "        X = np.atleast_2d(X)\n",
    "        return np.sign(self.project(X))\n",
    "    "
   ]
  },
  {
   "cell_type": "code",
   "execution_count": 25,
   "metadata": {},
   "outputs": [],
   "source": [
    "def gen_non_lin_separable_data():\n",
    "    \"\"\"\n",
    "    This function generates two sets of data points, each representing a different class.\n",
    "    The data points are randomly generated based on specified means and covariance matrix.\n",
    "    The generated data is non-linearly separable, meaning that it cannot be separated by a straight line.\n",
    "    \"\"\"\n",
    "    mean1 = [-1, 2]\n",
    "    mean2 = [1, -1]\n",
    "    mean3 = [4, -4]\n",
    "    mean4 = [-4, 4]\n",
    "    cov = [[1.0, 0.8], [0.8, 1.0]]\n",
    "    X1 = np.random.multivariate_normal(mean1, cov, 500)\n",
    "    X1 = np.vstack((X1, np.random.multivariate_normal(mean3, cov, 500)))\n",
    "    y1 = np.ones(len(X1))\n",
    "    X2 = np.random.multivariate_normal(mean2, cov, 500)\n",
    "    X2 = np.vstack((X2, np.random.multivariate_normal(mean4, cov, 500)))\n",
    "    y2 = np.ones(len(X2)) * -1\n",
    " \n",
    "    X = np.vstack((X1, X2))\n",
    "    Y = np.concatenate((y1, y2))\n",
    "    return X, Y\n"
   ]
  },
  {
   "cell_type": "code",
   "execution_count": 26,
   "metadata": {},
   "outputs": [
    {
     "name": "stdout",
     "output_type": "stream",
     "text": [
      "[ 1. -1. -1.  1. -1. -1. -1. -1. -1.  1. -1. -1.  1.  1.  1. -1.  1. -1.\n",
      " -1. -1. -1. -1.  1. -1. -1. -1.  1. -1.  1. -1. -1. -1. -1. -1. -1.  1.\n",
      " -1.  1.  1.  1.  1. -1. -1.  1. -1.  1.  1.  1. -1. -1.]\n",
      "The accuracy is 100.0 %\n",
      "400 out of 400 predictions correct\n",
      "[ 1. -1.  1. -1. -1. -1. -1. -1.  1.  1. -1. -1.  1. -1. -1. -1.  1.  1.\n",
      " -1. -1.  1. -1. -1.  1. -1.  1. -1.  1. -1. -1.  1. -1.  1.  1.  1. -1.\n",
      " -1.  1. -1.  1. -1.  1. -1. -1.  1.  1. -1. -1.  1. -1.]\n",
      "The accuracy is 100.0 %\n",
      "275 out of 275 predictions correct\n"
     ]
    }
   ],
   "source": [
    "def test_kernel():\n",
    "    # Testing on generated data\n",
    "    X, Y = gen_non_lin_separable_data()\n",
    "    X_train, X_test, y_train, y_test = train_test_split(X, Y, test_size=0.2, random_state=0)\n",
    "    perceptron = KernelPerceptron(rbf_kernel, max_iter=10)\n",
    "    perceptron.fit(X_train, y_train)\n",
    "\n",
    "    y_predict = perceptron.predict(X_test)\n",
    "    print(y_predict[:50])\n",
    "    correct = np.sum(y_predict == y_test)\n",
    "    print(\"The accuracy is\", correct / len(y_predict) * 100, \"%\")\n",
    "    print (\"%d out of %d predictions correct\" % (correct, len(y_predict)))\n",
    "\n",
    "    # Testing on Bancknote data\n",
    "    data = pd.read_csv('./banknote+authentication/data_banknote_authentication.txt', header=None)\n",
    "    data = data.to_numpy()\n",
    "    data[:, -1] = np.where(data[:, -1] == 0, -1, data[:, -1])\n",
    "\n",
    "    X, Y = data[:, :-1], data[:, -1]\n",
    "    X_train, X_test, y_train, y_test = train_test_split(X, Y, test_size=0.2, random_state=0)\n",
    "\n",
    "    perceptron = KernelPerceptron(rbf_kernel, max_iter=10)\n",
    "    perceptron.fit(X_train, y_train)\n",
    "\n",
    "    y_predict = perceptron.predict(X_test)\n",
    "    print(y_predict[:50])\n",
    "    correct = np.sum(y_predict == y_test)\n",
    "    print(\"The accuracy is\", correct / len(y_predict) * 100, \"%\")\n",
    "    print (\"%d out of %d predictions correct\" % (correct, len(y_predict)))\n",
    "\n",
    "\n",
    "test_kernel()"
   ]
  }
 ],
 "metadata": {
  "kernelspec": {
   "display_name": "Python 3",
   "language": "python",
   "name": "python3"
  },
  "language_info": {
   "codemirror_mode": {
    "name": "ipython",
    "version": 3
   },
   "file_extension": ".py",
   "mimetype": "text/x-python",
   "name": "python",
   "nbconvert_exporter": "python",
   "pygments_lexer": "ipython3",
   "version": "3.11.7"
  }
 },
 "nbformat": 4,
 "nbformat_minor": 2
}
